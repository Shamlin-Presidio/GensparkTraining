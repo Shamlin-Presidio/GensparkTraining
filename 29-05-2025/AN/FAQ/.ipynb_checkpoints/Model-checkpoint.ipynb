{
 "cells": [
  {
   "cell_type": "code",
   "execution_count": 2,
   "id": "19e10a74-38be-4d74-95bd-25dbdbcb957e",
   "metadata": {},
   "outputs": [],
   "source": [
    "import pickle\n",
    "from sklearn.feature_extraction.text import TfidfVectorizer\n",
    "from sklearn.linear_model import LogisticRegression"
   ]
  },
  {
   "cell_type": "code",
   "execution_count": 3,
   "id": "3e17ac41-d6b7-4569-b1cf-d9ec8bacf10d",
   "metadata": {},
   "outputs": [],
   "source": [
    "# Training data\n",
    "questions = [\n",
    "    \"how to create an account?\",\n",
    "    \"how to deposit money?\",\n",
    "    \"how to check balance?\",\n",
    "    \"how to withdraw money?\"\n",
    "]\n",
    "\n",
    "labels = [\n",
    "    \"create_account\",\n",
    "    \"deposit\",\n",
    "    \"check_balance\",\n",
    "    \"withdraw\"\n",
    "]\n"
   ]
  },
  {
   "cell_type": "code",
   "execution_count": 4,
   "id": "7fc49ff6-da32-4dc9-948a-77203c76f8c6",
   "metadata": {},
   "outputs": [
    {
     "name": "stdout",
     "output_type": "stream",
     "text": [
      "Model trained and saved to faq_model.pkl\n"
     ]
    }
   ],
   "source": [
    "# Vectorize questions\n",
    "vectorizer = TfidfVectorizer()\n",
    "X = vectorizer.fit_transform(questions)\n",
    "\n",
    "# Train classifier\n",
    "clf = LogisticRegression()\n",
    "clf.fit(X, labels)\n",
    "\n",
    "# Save model and vectorizer\n",
    "with open(\"faq_model.pkl\", \"wb\") as f:\n",
    "    pickle.dump((vectorizer, clf), f)\n",
    "\n",
    "print(\"Model trained and saved to faq_model.pkl\")"
   ]
  },
  {
   "cell_type": "code",
   "execution_count": null,
   "id": "226723d5-cd6f-43ba-b04a-5818a7317825",
   "metadata": {},
   "outputs": [],
   "source": []
  },
  {
   "cell_type": "code",
   "execution_count": null,
   "id": "3db56cf7-f906-4dcd-82a3-68ac704a1231",
   "metadata": {},
   "outputs": [],
   "source": []
  }
 ],
 "metadata": {
  "kernelspec": {
   "display_name": "Python [conda env:base] *",
   "language": "python",
   "name": "conda-base-py"
  },
  "language_info": {
   "codemirror_mode": {
    "name": "ipython",
    "version": 3
   },
   "file_extension": ".py",
   "mimetype": "text/x-python",
   "name": "python",
   "nbconvert_exporter": "python",
   "pygments_lexer": "ipython3",
   "version": "3.13.2"
  }
 },
 "nbformat": 4,
 "nbformat_minor": 5
}
